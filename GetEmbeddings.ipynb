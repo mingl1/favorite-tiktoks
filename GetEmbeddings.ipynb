{
 "cells": [
  {
   "cell_type": "markdown",
   "metadata": {},
   "source": [
    "# EDA and vectorizing data"
   ]
  },
  {
   "cell_type": "code",
   "execution_count": 5,
   "metadata": {},
   "outputs": [],
   "source": [
    "from openai import OpenAI\n",
    "import pandas as pd\n",
    "import numpy as np\n",
    "import os\n",
    "import json\n",
    "from dotenv import load_dotenv\n",
    "\n",
    "load_dotenv()\n",
    "# create .env file and add OPENAI_API_KEY, it should start with sk-...\n",
    "OPENAI_API_KEY = os.getenv('OPENAI_API_KEY')"
   ]
  },
  {
   "cell_type": "code",
   "execution_count": 6,
   "metadata": {},
   "outputs": [],
   "source": [
    "client = OpenAI()\n",
    "# set the api key\n",
    "\n",
    "client.api_key = OPENAI_API_KEY\n",
    "\n",
    "# This function takes a text and returns the embedding of the text from openai\n",
    "def my_get_embedding(text, model=\"text-embedding-3-small\"):\n",
    "   text = text.replace(\"\\n\", \" \")\n",
    "   text = ''.join(filter(str.isalnum, text))\n",
    "   return client.embeddings.create(input = [text], model=model).data[0].embedding"
   ]
  },
  {
   "cell_type": "code",
   "execution_count": 123,
   "metadata": {},
   "outputs": [],
   "source": [
    "\n",
    "# Create a dataframe from the json files\n",
    "path_to_json = './videos/'\n",
    "json_files = [pos_json for pos_json in os.listdir(path_to_json) if pos_json.endswith('.json')]\n",
    "# the ID field will contain the date and the video ID that is unique for each video and can be combined with https://www.tiktokv.com/share/video/... to get the video URL\n",
    "data=dict()\n",
    "titles = []\n",
    "for i in json_files:\n",
    "  with open(path_to_json+i) as jf:\n",
    "      j = json.load(jf)\n",
    "      txt = ''\n",
    "      try:\n",
    "        txt = ';'.join(j['itemInfo']['itemStruct']['suggestedWords']) \n",
    "      except Exception as _:\n",
    "        txt = ''\n",
    "      try:\n",
    "        txt += j['itemInfo']['itemStruct']['desc'] + ';' + j['shareMeta']['title']\n",
    "        titles.append(j['shareMeta']['title'])\n",
    "      except Exception as _:\n",
    "        continue\n",
    "      data[i] = txt\n",
    "df = {'id':data.keys(),'text':data.values(),'title': titles}\n",
    "df = pd.DataFrame.from_dict(df)"
   ]
  },
  {
   "cell_type": "code",
   "execution_count": 124,
   "metadata": {},
   "outputs": [
    {
     "name": "stdout",
     "output_type": "stream",
     "text": [
      "                                             id  \\\n",
      "0  2020-12-11T16-36-48_6904707844294053126.json   \n",
      "1  2020-12-15T17-25-26_6905454041074011398.json   \n",
      "2  2020-12-15T19-14-43_6897881517813402885.json   \n",
      "3  2020-12-15T20-01-31_6901495881992867077.json   \n",
      "4  2020-12-15T20-09-37_6898107668905331974.json   \n",
      "\n",
      "                                  title  \n",
      "0                 Matt Lorion on TikTok  \n",
      "1  Wonsulting | Career Tips👀💡 on TikTok  \n",
      "2           unstoppablegiggle on TikTok  \n",
      "3    Sam - Your Career Bestie on TikTok  \n",
      "4              Mariella Mahal on TikTok  \n"
     ]
    }
   ],
   "source": [
    "# Example of the dataframe\n",
    "print(df[['id','title']].head())\n"
   ]
  },
  {
   "cell_type": "code",
   "execution_count": 125,
   "metadata": {},
   "outputs": [
    {
     "name": "stdout",
     "output_type": "stream",
     "text": [
      "                                             id                       title\n",
      "0  2020-12-11T16-36-48_6904707844294053126.json                 Matt Lorion\n",
      "1  2020-12-15T17-25-26_6905454041074011398.json  Wonsulting | Career Tips👀💡\n",
      "2  2020-12-15T19-14-43_6897881517813402885.json           unstoppablegiggle\n",
      "3  2020-12-15T20-01-31_6901495881992867077.json    Sam - Your Career Bestie\n",
      "4  2020-12-15T20-09-37_6898107668905331974.json              Mariella Mahal\n"
     ]
    }
   ],
   "source": [
    "# Lets remove the \" on TikTok\" from the title\n",
    "df['title'] = df['title'].str.replace(' on TikTok','')\n",
    "print(df[['id','title']].head())\n"
   ]
  },
  {
   "cell_type": "code",
   "execution_count": 126,
   "metadata": {},
   "outputs": [],
   "source": [
    "# This will get the embeddings of the text\n",
    "embeddings = []\n",
    "for txt in df['text']:\n",
    "    embeddings.append(my_get_embedding(txt))"
   ]
  },
  {
   "cell_type": "code",
   "execution_count": 127,
   "metadata": {},
   "outputs": [],
   "source": [
    "# Save the embeddings to a file\n",
    "df['embeddings'] = embeddings\n",
    "df.to_csv('vids_with_embeds.csv',index=False)"
   ]
  },
  {
   "cell_type": "code",
   "execution_count": 130,
   "metadata": {},
   "outputs": [
    {
     "name": "stdout",
     "output_type": "stream",
     "text": [
      "                                             id  \\\n",
      "0  2020-12-11T16-36-48_6904707844294053126.json   \n",
      "1  2020-12-15T17-25-26_6905454041074011398.json   \n",
      "2  2020-12-15T19-14-43_6897881517813402885.json   \n",
      "3  2020-12-15T20-01-31_6901495881992867077.json   \n",
      "4  2020-12-15T20-09-37_6898107668905331974.json   \n",
      "\n",
      "                                                text  \\\n",
      "0  Trading Motivation;trading places;Trading Spac...   \n",
      "1  How do you get a referral for companies like i...   \n",
      "2  Reply to @bankai_zabimaru #greenscreen #stemli...   \n",
      "3  How to respond (and crush it) when an intervie...   \n",
      "4  i haven’t paid for books in 2 years - like for...   \n",
      "\n",
      "                        title  \\\n",
      "0                 Matt Lorion   \n",
      "1  Wonsulting | Career Tips👀💡   \n",
      "2           unstoppablegiggle   \n",
      "3    Sam - Your Career Bestie   \n",
      "4              Mariella Mahal   \n",
      "\n",
      "                                          embeddings  \n",
      "0  [0.004208823665976524, -0.03823400288820267, 0...  \n",
      "1  [-0.0031721279956400394, 0.004200569353997707,...  \n",
      "2  [0.017734628170728683, -0.024280162528157234, ...  \n",
      "3  [-0.003541965037584305, -0.03863702714443207, ...  \n",
      "4  [-0.013438946567475796, -0.01910446211695671, ...  \n",
      "1536\n"
     ]
    }
   ],
   "source": [
    "# Now you have a dataframe with the embeddings! Note that the links of the videos are in the 'id' column, seperated by the underscore\n",
    "print(df.head())\n",
    "print(len(df['embeddings'][0]))"
   ]
  },
  {
   "cell_type": "markdown",
   "metadata": {},
   "source": [
    "# Process the embeddings for upload"
   ]
  },
  {
   "cell_type": "code",
   "execution_count": 1,
   "metadata": {},
   "outputs": [],
   "source": [
    "import pandas as pd\n",
    "\n",
    "df = pd.read_csv('vids_with_embeds.csv')\n",
    "embeddings = df['embeddings']"
   ]
  },
  {
   "cell_type": "code",
   "execution_count": 109,
   "metadata": {},
   "outputs": [
    {
     "data": {
      "text/html": [
       "<div>\n",
       "<style scoped>\n",
       "    .dataframe tbody tr th:only-of-type {\n",
       "        vertical-align: middle;\n",
       "    }\n",
       "\n",
       "    .dataframe tbody tr th {\n",
       "        vertical-align: top;\n",
       "    }\n",
       "\n",
       "    .dataframe thead th {\n",
       "        text-align: right;\n",
       "    }\n",
       "</style>\n",
       "<table border=\"1\" class=\"dataframe\">\n",
       "  <thead>\n",
       "    <tr style=\"text-align: right;\">\n",
       "      <th></th>\n",
       "      <th>id</th>\n",
       "      <th>text</th>\n",
       "      <th>title</th>\n",
       "      <th>embeddings</th>\n",
       "    </tr>\n",
       "  </thead>\n",
       "  <tbody>\n",
       "    <tr>\n",
       "      <th>0</th>\n",
       "      <td>2020-12-11T16-36-48_6904707844294053126.json</td>\n",
       "      <td>Trading Motivation;trading places;Trading Spac...</td>\n",
       "      <td>Matt Lorion</td>\n",
       "      <td>[0.004208823665976524, -0.03823400288820267, 0...</td>\n",
       "    </tr>\n",
       "    <tr>\n",
       "      <th>1</th>\n",
       "      <td>2020-12-15T17-25-26_6905454041074011398.json</td>\n",
       "      <td>How do you get a referral for companies like i...</td>\n",
       "      <td>Wonsulting | Career Tips👀💡</td>\n",
       "      <td>[-0.0031721279956400394, 0.004200569353997707,...</td>\n",
       "    </tr>\n",
       "    <tr>\n",
       "      <th>2</th>\n",
       "      <td>2020-12-15T19-14-43_6897881517813402885.json</td>\n",
       "      <td>Reply to @bankai_zabimaru #greenscreen #stemli...</td>\n",
       "      <td>unstoppablegiggle</td>\n",
       "      <td>[0.017734628170728683, -0.024280162528157234, ...</td>\n",
       "    </tr>\n",
       "    <tr>\n",
       "      <th>3</th>\n",
       "      <td>2020-12-15T20-01-31_6901495881992867077.json</td>\n",
       "      <td>How to respond (and crush it) when an intervie...</td>\n",
       "      <td>Sam - Your Career Bestie</td>\n",
       "      <td>[-0.003541965037584305, -0.03863702714443207, ...</td>\n",
       "    </tr>\n",
       "    <tr>\n",
       "      <th>4</th>\n",
       "      <td>2020-12-15T20-09-37_6898107668905331974.json</td>\n",
       "      <td>i haven’t paid for books in 2 years - like for...</td>\n",
       "      <td>Mariella Mahal</td>\n",
       "      <td>[-0.013438946567475796, -0.01910446211695671, ...</td>\n",
       "    </tr>\n",
       "  </tbody>\n",
       "</table>\n",
       "</div>"
      ],
      "text/plain": [
       "                                             id  \\\n",
       "0  2020-12-11T16-36-48_6904707844294053126.json   \n",
       "1  2020-12-15T17-25-26_6905454041074011398.json   \n",
       "2  2020-12-15T19-14-43_6897881517813402885.json   \n",
       "3  2020-12-15T20-01-31_6901495881992867077.json   \n",
       "4  2020-12-15T20-09-37_6898107668905331974.json   \n",
       "\n",
       "                                                text  \\\n",
       "0  Trading Motivation;trading places;Trading Spac...   \n",
       "1  How do you get a referral for companies like i...   \n",
       "2  Reply to @bankai_zabimaru #greenscreen #stemli...   \n",
       "3  How to respond (and crush it) when an intervie...   \n",
       "4  i haven’t paid for books in 2 years - like for...   \n",
       "\n",
       "                        title  \\\n",
       "0                 Matt Lorion   \n",
       "1  Wonsulting | Career Tips👀💡   \n",
       "2           unstoppablegiggle   \n",
       "3    Sam - Your Career Bestie   \n",
       "4              Mariella Mahal   \n",
       "\n",
       "                                          embeddings  \n",
       "0  [0.004208823665976524, -0.03823400288820267, 0...  \n",
       "1  [-0.0031721279956400394, 0.004200569353997707,...  \n",
       "2  [0.017734628170728683, -0.024280162528157234, ...  \n",
       "3  [-0.003541965037584305, -0.03863702714443207, ...  \n",
       "4  [-0.013438946567475796, -0.01910446211695671, ...  "
      ]
     },
     "execution_count": 109,
     "metadata": {},
     "output_type": "execute_result"
    }
   ],
   "source": [
    "# Sanity Check\n",
    "df.head()"
   ]
  },
  {
   "cell_type": "code",
   "execution_count": 2,
   "metadata": {},
   "outputs": [
    {
     "name": "stdout",
     "output_type": "stream",
     "text": [
      "<class 'str'>\n",
      "<class 'list'>\n"
     ]
    }
   ],
   "source": [
    "new_embeddings = []\n",
    "# convert the string representation of the lists to a list of floats\n",
    "print(type(df['embeddings'].iloc[0]))\n",
    "for e in embeddings:\n",
    "    new_embeddings.append([float(x) for x in e[1:-1].split(',')])\n",
    "df['embeddings'] = new_embeddings\n",
    "print(type(df['embeddings'].iloc[0]))\n",
    "# print(df.head())\n",
    "# replace NaN titles with Anonymus\n"
   ]
  },
  {
   "cell_type": "code",
   "execution_count": 26,
   "metadata": {},
   "outputs": [],
   "source": [
    "# Convert the string representation of the list to a list of floats\n",
    "# print(type(df['embeddings'].iloc[0]))\n",
    "# df[\"embeddings\"] = df.embeddings.apply(eval).apply(np.array)\n",
    "# print(type(df['embeddings'].iloc[0]))\n",
    "df['title'] = df['title'].fillna('Anonymus')"
   ]
  },
  {
   "cell_type": "code",
   "execution_count": 3,
   "metadata": {},
   "outputs": [],
   "source": [
    "def normalize(x):\n",
    "   return np.sqrt(np.sum(np.square(x)))\n",
    "\n",
    "def search(df, B, n=3, pprint=True):\n",
    "\n",
    "   embedding = my_get_embedding(B)\n",
    "   df['similarities'] = df.embeddings.apply(lambda A: np.dot(A,embedding)/(normalize(A)*normalize(embedding)))\n",
    "   res = df.sort_values('similarities', ascending=False).head(n)\n",
    "   return res\n"
   ]
  },
  {
   "cell_type": "code",
   "execution_count": 112,
   "metadata": {},
   "outputs": [],
   "source": [
    "res = search(df, 'books', n=3)"
   ]
  },
  {
   "cell_type": "code",
   "execution_count": 133,
   "metadata": {},
   "outputs": [
    {
     "name": "stdout",
     "output_type": "stream",
     "text": [
      "Dimention of the embeddings:  1536\n"
     ]
    },
    {
     "data": {
      "text/html": [
       "<div>\n",
       "<style scoped>\n",
       "    .dataframe tbody tr th:only-of-type {\n",
       "        vertical-align: middle;\n",
       "    }\n",
       "\n",
       "    .dataframe tbody tr th {\n",
       "        vertical-align: top;\n",
       "    }\n",
       "\n",
       "    .dataframe thead th {\n",
       "        text-align: right;\n",
       "    }\n",
       "</style>\n",
       "<table border=\"1\" class=\"dataframe\">\n",
       "  <thead>\n",
       "    <tr style=\"text-align: right;\">\n",
       "      <th></th>\n",
       "      <th>id</th>\n",
       "      <th>text</th>\n",
       "      <th>title</th>\n",
       "      <th>embeddings</th>\n",
       "      <th>similarities</th>\n",
       "    </tr>\n",
       "  </thead>\n",
       "  <tbody>\n",
       "    <tr>\n",
       "      <th>4</th>\n",
       "      <td>2020-12-15T20-09-37_6898107668905331974.json</td>\n",
       "      <td>i haven’t paid for books in 2 years - like for...</td>\n",
       "      <td>Mariella Mahal</td>\n",
       "      <td>[-0.013438946567475796, -0.01910446211695671, ...</td>\n",
       "      <td>0.293667</td>\n",
       "    </tr>\n",
       "    <tr>\n",
       "      <th>146</th>\n",
       "      <td>2023-03-17T21-02-09_7211241979890404650.json</td>\n",
       "      <td>kuru toga;kuru toga mechanical pencil;best mec...</td>\n",
       "      <td>bungu.store</td>\n",
       "      <td>[0.024209968745708466, 0.009360017254948616, -...</td>\n",
       "      <td>0.236675</td>\n",
       "    </tr>\n",
       "    <tr>\n",
       "      <th>11</th>\n",
       "      <td>2020-12-28T20-41-32_6908485370212551941.json</td>\n",
       "      <td>Since people been asking for Manhwa recommenda...</td>\n",
       "      <td>breezylouie</td>\n",
       "      <td>[0.044516436755657196, 0.019246326759457588, -...</td>\n",
       "      <td>0.207206</td>\n",
       "    </tr>\n",
       "  </tbody>\n",
       "</table>\n",
       "</div>"
      ],
      "text/plain": [
       "                                               id  \\\n",
       "4    2020-12-15T20-09-37_6898107668905331974.json   \n",
       "146  2023-03-17T21-02-09_7211241979890404650.json   \n",
       "11   2020-12-28T20-41-32_6908485370212551941.json   \n",
       "\n",
       "                                                  text           title  \\\n",
       "4    i haven’t paid for books in 2 years - like for...  Mariella Mahal   \n",
       "146  kuru toga;kuru toga mechanical pencil;best mec...     bungu.store   \n",
       "11   Since people been asking for Manhwa recommenda...     breezylouie   \n",
       "\n",
       "                                            embeddings  similarities  \n",
       "4    [-0.013438946567475796, -0.01910446211695671, ...      0.293667  \n",
       "146  [0.024209968745708466, 0.009360017254948616, -...      0.236675  \n",
       "11   [0.044516436755657196, 0.019246326759457588, -...      0.207206  "
      ]
     },
     "execution_count": 133,
     "metadata": {},
     "output_type": "execute_result"
    }
   ],
   "source": [
    "\n",
    "print(\"Dimention of the embeddings: \",len(res['embeddings'].iloc[0]))\n",
    "res.head()"
   ]
  },
  {
   "cell_type": "markdown",
   "metadata": {},
   "source": [
    "## The search is working! All the results are related to the search word \"book\". Take note of the dimention of the embeddings\n",
    "<div>\n",
    "<style scoped>\n",
    "    .dataframe tbody tr th:only-of-type {\n",
    "        vertical-align: middle;\n",
    "    }\n",
    "\n",
    "    .dataframe tbody tr th {\n",
    "        vertical-align: top;\n",
    "    }\n",
    "\n",
    "    .dataframe thead th {\n",
    "        text-align: right;\n",
    "    }\n",
    "</style>\n",
    "<table border=\"1\" class=\"dataframe\">\n",
    "  <thead>\n",
    "    <tr style=\"text-align: right;\">\n",
    "      <th></th>\n",
    "      <th>id</th>\n",
    "      <th>text</th>\n",
    "      <th>title</th>\n",
    "      <th>embeddings</th>\n",
    "      <th>similarities</th>\n",
    "    </tr>\n",
    "  </thead>\n",
    "  <tbody>\n",
    "    <tr>\n",
    "      <th>4</th>\n",
    "      <td>2020-12-15T20-09-37_6898107668905331974.json</td>\n",
    "      <td>i haven’t paid for books in 2 years - like for...</td>\n",
    "      <td>Mariella Mahal</td>\n",
    "      <td>[-0.013438946567475796, -0.01910446211695671, ...</td>\n",
    "      <td>0.293667</td>\n",
    "    </tr>\n",
    "    <tr>\n",
    "      <th>146</th>\n",
    "      <td>2023-03-17T21-02-09_7211241979890404650.json</td>\n",
    "      <td>kuru toga;kuru toga mechanical pencil;best mec...</td>\n",
    "      <td>bungu.store</td>\n",
    "      <td>[0.024209968745708466, 0.009360017254948616, -...</td>\n",
    "      <td>0.236675</td>\n",
    "    </tr>\n",
    "    <tr>\n",
    "      <th>11</th>\n",
    "      <td>2020-12-28T20-41-32_6908485370212551941.json</td>\n",
    "      <td>Since people been asking for Manhwa recommenda...</td>\n",
    "      <td>breezylouie</td>\n",
    "      <td>[0.044516436755657196, 0.019246326759457588, -...</td>\n",
    "      <td>0.207206</td>\n",
    "    </tr>\n",
    "  </tbody>\n",
    "</table>\n",
    "</div>"
   ]
  },
  {
   "cell_type": "markdown",
   "metadata": {},
   "source": [
    "# Upload embeddings into pinecone\n",
    "## Create an account on pinecone.io and create a free index, ensure the metric of the index is cosine and the dimensions is the same as the one noted above (1536 if using \"text-embedding-3-small\")"
   ]
  },
  {
   "cell_type": "code",
   "execution_count": 7,
   "metadata": {},
   "outputs": [
    {
     "name": "stderr",
     "output_type": "stream",
     "text": [
      "f:\\savedtt\\tiktok-save\\.venv\\lib\\site-packages\\pinecone\\data\\index.py:1: TqdmWarning: IProgress not found. Please update jupyter and ipywidgets. See https://ipywidgets.readthedocs.io/en/stable/user_install.html\n",
      "  from tqdm.autonotebook import tqdm\n"
     ]
    }
   ],
   "source": [
    "from pinecone import Pinecone\n",
    "from dotenv import load_dotenv\n",
    "\n",
    "load_dotenv()\n",
    "PINECONE_API_KEY = os.getenv('PINECONE_API_KEY')\n"
   ]
  },
  {
   "cell_type": "code",
   "execution_count": 21,
   "metadata": {},
   "outputs": [],
   "source": [
    "pc = Pinecone(api_key=PINECONE_API_KEY)\n",
    "# Make this the name of the index you created on the Pinecone dashboard\n",
    "name_of_index = \"tt\"\n",
    "# name_of_index = \"quickstart\"\n",
    "index = pc.Index(name_of_index)"
   ]
  },
  {
   "cell_type": "code",
   "execution_count": 51,
   "metadata": {},
   "outputs": [],
   "source": [
    "# upserting a list of tuples of the form (id, embedding)\n",
    "vals = []\n",
    "for i in range(len(df)):\n",
    "    vals.append(({\"id\":df['id'][i], \"values\":df['embeddings'][i],\"metadata\":{'title':df['title'][i],'text':df['text'][i]}}))"
   ]
  },
  {
   "cell_type": "code",
   "execution_count": 28,
   "metadata": {},
   "outputs": [
    {
     "name": "stderr",
     "output_type": "stream",
     "text": [
      "  0%|          | 0/4 [00:00<?, ?it/s]"
     ]
    },
    {
     "name": "stdout",
     "output_type": "stream",
     "text": [
      "Upserting batch 0 to 50\n"
     ]
    },
    {
     "name": "stderr",
     "output_type": "stream",
     "text": [
      " 25%|██▌       | 1/4 [00:00<00:02,  1.42it/s]"
     ]
    },
    {
     "name": "stdout",
     "output_type": "stream",
     "text": [
      "Upserting batch 50 to 100\n"
     ]
    },
    {
     "name": "stderr",
     "output_type": "stream",
     "text": [
      " 50%|█████     | 2/4 [00:01<00:01,  1.47it/s]"
     ]
    },
    {
     "name": "stdout",
     "output_type": "stream",
     "text": [
      "Upserting batch 100 to 150\n"
     ]
    },
    {
     "name": "stderr",
     "output_type": "stream",
     "text": [
      " 75%|███████▌  | 3/4 [00:01<00:00,  1.57it/s]"
     ]
    },
    {
     "name": "stdout",
     "output_type": "stream",
     "text": [
      "Upserting batch 150 to 200\n"
     ]
    },
    {
     "name": "stderr",
     "output_type": "stream",
     "text": [
      "100%|██████████| 4/4 [00:02<00:00,  1.74it/s]\n"
     ]
    }
   ],
   "source": [
    "from tqdm.auto import tqdm\n",
    "\n",
    "for batch in tqdm(range(0, len(vals), 50)):\n",
    "    print(f\"Upserting batch {batch} to {batch+50}\")\n",
    "    index.upsert(vals[batch:batch+50],namespace='tt')"
   ]
  },
  {
   "cell_type": "code",
   "execution_count": null,
   "metadata": {},
   "outputs": [],
   "source": [
    "# If you forgot to add a metadata field, you can update it using the following code\n",
    "# I forgot to add the text field to the metadata\n",
    "\n",
    "from tqdm.auto import tqdm\n",
    "\n",
    "for batch in tqdm(range(0, len(vals))):\n",
    "    index.update(id=vals[i]['id'],namespace='tt',set_metadata={'text':vals[i]['metadata']['text']})"
   ]
  },
  {
   "cell_type": "code",
   "execution_count": 29,
   "metadata": {},
   "outputs": [],
   "source": [
    "# test with a query\n",
    "book_embed = my_get_embedding(\"books\")"
   ]
  },
  {
   "cell_type": "code",
   "execution_count": 54,
   "metadata": {},
   "outputs": [],
   "source": [
    "res = index.query(\n",
    "  vector=book_embed,\n",
    "  top_k=3,\n",
    "  include_metadata=True,\n",
    "  namespace='tt'\n",
    "  \n",
    ")\n",
    "test = [x['id'] for x in res['matches']]"
   ]
  },
  {
   "cell_type": "code",
   "execution_count": 55,
   "metadata": {},
   "outputs": [
    {
     "data": {
      "text/plain": [
       "{'matches': [{'id': '2020-12-15T20-09-37_6898107668905331974.json',\n",
       "              'metadata': {'title': 'Mariella Mahal'},\n",
       "              'score': 0.293735325,\n",
       "              'values': []},\n",
       "             {'id': '2023-03-17T21-02-09_7211241979890404650.json',\n",
       "              'metadata': {'title': 'bungu.store'},\n",
       "              'score': 0.236255735,\n",
       "              'values': []},\n",
       "             {'id': '2020-12-28T20-41-32_6908485370212551941.json',\n",
       "              'metadata': {'title': 'breezylouie'},\n",
       "              'score': 0.208099678,\n",
       "              'values': []}],\n",
       " 'namespace': 'tt',\n",
       " 'usage': {'read_units': 6}}"
      ]
     },
     "execution_count": 55,
     "metadata": {},
     "output_type": "execute_result"
    }
   ],
   "source": [
    "res"
   ]
  },
  {
   "cell_type": "code",
   "execution_count": 50,
   "metadata": {},
   "outputs": [
    {
     "data": {
      "text/html": [
       "<div>\n",
       "<style scoped>\n",
       "    .dataframe tbody tr th:only-of-type {\n",
       "        vertical-align: middle;\n",
       "    }\n",
       "\n",
       "    .dataframe tbody tr th {\n",
       "        vertical-align: top;\n",
       "    }\n",
       "\n",
       "    .dataframe thead th {\n",
       "        text-align: right;\n",
       "    }\n",
       "</style>\n",
       "<table border=\"1\" class=\"dataframe\">\n",
       "  <thead>\n",
       "    <tr style=\"text-align: right;\">\n",
       "      <th></th>\n",
       "      <th>title</th>\n",
       "      <th>id</th>\n",
       "      <th>text</th>\n",
       "    </tr>\n",
       "  </thead>\n",
       "  <tbody>\n",
       "    <tr>\n",
       "      <th>4</th>\n",
       "      <td>Mariella Mahal</td>\n",
       "      <td>2020-12-15T20-09-37_6898107668905331974.json</td>\n",
       "      <td>i haven’t paid for books in 2 years - like for...</td>\n",
       "    </tr>\n",
       "    <tr>\n",
       "      <th>11</th>\n",
       "      <td>breezylouie</td>\n",
       "      <td>2020-12-28T20-41-32_6908485370212551941.json</td>\n",
       "      <td>Since people been asking for Manhwa recommenda...</td>\n",
       "    </tr>\n",
       "    <tr>\n",
       "      <th>146</th>\n",
       "      <td>bungu.store</td>\n",
       "      <td>2023-03-17T21-02-09_7211241979890404650.json</td>\n",
       "      <td>kuru toga;kuru toga mechanical pencil;best mec...</td>\n",
       "    </tr>\n",
       "  </tbody>\n",
       "</table>\n",
       "</div>"
      ],
      "text/plain": [
       "              title                                            id  \\\n",
       "4    Mariella Mahal  2020-12-15T20-09-37_6898107668905331974.json   \n",
       "11      breezylouie  2020-12-28T20-41-32_6908485370212551941.json   \n",
       "146     bungu.store  2023-03-17T21-02-09_7211241979890404650.json   \n",
       "\n",
       "                                                  text  \n",
       "4    i haven’t paid for books in 2 years - like for...  \n",
       "11   Since people been asking for Manhwa recommenda...  \n",
       "146  kuru toga;kuru toga mechanical pencil;best mec...  "
      ]
     },
     "execution_count": 50,
     "metadata": {},
     "output_type": "execute_result"
    }
   ],
   "source": [
    "# Get the videos that are associated with the ids\n",
    "df[df['id'].isin(test)][['title','id','text']]"
   ]
  },
  {
   "cell_type": "markdown",
   "metadata": {},
   "source": [
    "# Sucess! The queries returned from the pinecone index are the ones related to the search term.\n",
    "## You can setup a basic flask server on AWS or cloud service provider of your choice to create your own TikTok Favorites API for website/app.\n",
    "<div>\n",
    "<style scoped>\n",
    "    .dataframe tbody tr th:only-of-type {\n",
    "        vertical-align: middle;\n",
    "    }\n",
    "\n",
    "    .dataframe tbody tr th {\n",
    "        vertical-align: top;\n",
    "    }\n",
    "\n",
    "    .dataframe thead th {\n",
    "        text-align: right;\n",
    "    }\n",
    "</style>\n",
    "<table border=\"1\" class=\"dataframe\">\n",
    "  <thead>\n",
    "    <tr style=\"text-align: right;\">\n",
    "      <th></th>\n",
    "      <th>title</th>\n",
    "      <th>id</th>\n",
    "      <th>text</th>\n",
    "    </tr>\n",
    "  </thead>\n",
    "  <tbody>\n",
    "    <tr>\n",
    "      <th>4</th>\n",
    "      <td>Mariella Mahal</td>\n",
    "      <td>2020-12-15T20-09-37_6898107668905331974.json</td>\n",
    "      <td>i haven’t paid for books in 2 years - like for...</td>\n",
    "    </tr>\n",
    "    <tr>\n",
    "      <th>11</th>\n",
    "      <td>breezylouie</td>\n",
    "      <td>2020-12-28T20-41-32_6908485370212551941.json</td>\n",
    "      <td>Since people been asking for Manhwa recommenda...</td>\n",
    "    </tr>\n",
    "    <tr>\n",
    "      <th>146</th>\n",
    "      <td>bungu.store</td>\n",
    "      <td>2023-03-17T21-02-09_7211241979890404650.json</td>\n",
    "      <td>kuru toga;kuru toga mechanical pencil;best mec...</td>\n",
    "    </tr>\n",
    "  </tbody>\n",
    "</table>\n",
    "</div>"
   ]
  },
  {
   "cell_type": "markdown",
   "metadata": {},
   "source": [
    "# Example of Basic Flask App\n",
    "```python\n",
    "\n",
    "\n",
    "from flask import Flask,request\n",
    "from openai import OpenAI\n",
    "import os\n",
    "import requests\n",
    "import json\n",
    "app = Flask(__name__)\n",
    "\n",
    "\n",
    "OPENAI_API_KEY = os.getenv('OPENAI_API_KEY')\n",
    "PINECONE_API_KEY = os.getenv('PINECONE_API_KEY')\n",
    "name_of_index = os.getenv(\"INDEX_NAME\")\n",
    "\n",
    "\n",
    "def my_get_embedding(text, client,model=\"text-embedding-3-small\",):\n",
    "   text = text.replace(\"\\n\", \" \")\n",
    "   text = ''.join(filter(str.isalnum, text))\n",
    "   return client.embeddings.create(input = [text], model=model).data[0].embedding\n",
    "\n",
    "@app.route(\"/search\", methods=[\"GET\"])\n",
    "def get_tiktoks():\n",
    "    client = OpenAI()\n",
    "    client.api_key = OPENAI_API_KEY\n",
    "    url = f\"https://{name_of_index}/query\"\n",
    "    headers = {\n",
    "        \"Api-Key\": PINECONE_API_KEY,\n",
    "        \"Content-Type\": \"application/json\"\n",
    "    }\n",
    "\n",
    "    args = request.args\n",
    "\n",
    "    search = args.get(\"search\", default=\"\", type=str)\n",
    "    n = args.get(\"n\", default=3, type=int)\n",
    "\n",
    "    search_embed = my_get_embedding(search, client)\n",
    "    data = {\n",
    "        \"vector\": search_embed,\n",
    "        \"topK\": n,\n",
    "        \"includeValues\": False,\n",
    "        \"includeMetadata\": True,\n",
    "        \"namespace\": \"tt\" # Ensure this is the name space of the upserted records\n",
    "    }\n",
    "    response = requests.post(url, headers=headers, json=data)\n",
    "    if response.status_code == 200:\n",
    "        response= response.json()\n",
    "        response = response['matches']\n",
    "    return json.dumps(response)\n",
    "\n",
    "```\n"
   ]
  }
 ],
 "metadata": {
  "kernelspec": {
   "display_name": "Python 3",
   "language": "python",
   "name": "python3"
  },
  "language_info": {
   "codemirror_mode": {
    "name": "ipython",
    "version": 3
   },
   "file_extension": ".py",
   "mimetype": "text/x-python",
   "name": "python",
   "nbconvert_exporter": "python",
   "pygments_lexer": "ipython3",
   "version": "3.10.11"
  },
  "vscode": {
   "interpreter": {
    "hash": "369f2c481f4da34e4445cda3fffd2e751bd1c4d706f27375911949ba6bb62e1c"
   }
  }
 },
 "nbformat": 4,
 "nbformat_minor": 4
}
